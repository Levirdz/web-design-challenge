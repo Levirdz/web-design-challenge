{
 "cells": [
  {
   "cell_type": "code",
   "execution_count": 1,
   "metadata": {},
   "outputs": [],
   "source": [
    "# Importing Pandas \n",
    "import pandas as pd "
   ]
  },
  {
   "cell_type": "code",
   "execution_count": 2,
   "metadata": {},
   "outputs": [
    {
     "data": {
      "text/html": [
       "<div>\n",
       "<style scoped>\n",
       "    .dataframe tbody tr th:only-of-type {\n",
       "        vertical-align: middle;\n",
       "    }\n",
       "\n",
       "    .dataframe tbody tr th {\n",
       "        vertical-align: top;\n",
       "    }\n",
       "\n",
       "    .dataframe thead th {\n",
       "        text-align: right;\n",
       "    }\n",
       "</style>\n",
       "<table border=\"1\" class=\"dataframe\">\n",
       "  <thead>\n",
       "    <tr style=\"text-align: right;\">\n",
       "      <th></th>\n",
       "      <th>Unnamed: 0</th>\n",
       "      <th>City</th>\n",
       "      <th>Country</th>\n",
       "      <th>Date</th>\n",
       "      <th>Latitude</th>\n",
       "      <th>Longitude</th>\n",
       "      <th>Temperature</th>\n",
       "      <th>Max. Temp.</th>\n",
       "      <th>Humidity</th>\n",
       "      <th>Cloudiness</th>\n",
       "      <th>Wind Speed</th>\n",
       "    </tr>\n",
       "  </thead>\n",
       "  <tbody>\n",
       "    <tr>\n",
       "      <th>0</th>\n",
       "      <td>0</td>\n",
       "      <td>Port Alfred</td>\n",
       "      <td>ZA</td>\n",
       "      <td>1600108947</td>\n",
       "      <td>-33.59</td>\n",
       "      <td>26.89</td>\n",
       "      <td>14.68</td>\n",
       "      <td>14.68</td>\n",
       "      <td>67</td>\n",
       "      <td>0</td>\n",
       "      <td>8.78</td>\n",
       "    </tr>\n",
       "    <tr>\n",
       "      <th>1</th>\n",
       "      <td>1</td>\n",
       "      <td>Dunda</td>\n",
       "      <td>TZ</td>\n",
       "      <td>1600108947</td>\n",
       "      <td>-8.12</td>\n",
       "      <td>34.25</td>\n",
       "      <td>22.13</td>\n",
       "      <td>22.13</td>\n",
       "      <td>49</td>\n",
       "      <td>57</td>\n",
       "      <td>1.87</td>\n",
       "    </tr>\n",
       "    <tr>\n",
       "      <th>2</th>\n",
       "      <td>2</td>\n",
       "      <td>Preston</td>\n",
       "      <td>GB</td>\n",
       "      <td>1600108862</td>\n",
       "      <td>53.77</td>\n",
       "      <td>-2.72</td>\n",
       "      <td>20.56</td>\n",
       "      <td>22.00</td>\n",
       "      <td>60</td>\n",
       "      <td>80</td>\n",
       "      <td>2.60</td>\n",
       "    </tr>\n",
       "    <tr>\n",
       "      <th>3</th>\n",
       "      <td>3</td>\n",
       "      <td>Ribeira Grande</td>\n",
       "      <td>PT</td>\n",
       "      <td>1600108948</td>\n",
       "      <td>38.52</td>\n",
       "      <td>-28.70</td>\n",
       "      <td>21.00</td>\n",
       "      <td>21.00</td>\n",
       "      <td>52</td>\n",
       "      <td>20</td>\n",
       "      <td>7.70</td>\n",
       "    </tr>\n",
       "    <tr>\n",
       "      <th>4</th>\n",
       "      <td>4</td>\n",
       "      <td>Mossamedes</td>\n",
       "      <td>AO</td>\n",
       "      <td>1600108948</td>\n",
       "      <td>-15.20</td>\n",
       "      <td>12.15</td>\n",
       "      <td>18.59</td>\n",
       "      <td>18.59</td>\n",
       "      <td>84</td>\n",
       "      <td>100</td>\n",
       "      <td>3.07</td>\n",
       "    </tr>\n",
       "  </tbody>\n",
       "</table>\n",
       "</div>"
      ],
      "text/plain": [
       "   Unnamed: 0            City Country        Date  Latitude  Longitude  \\\n",
       "0           0     Port Alfred      ZA  1600108947    -33.59      26.89   \n",
       "1           1           Dunda      TZ  1600108947     -8.12      34.25   \n",
       "2           2         Preston      GB  1600108862     53.77      -2.72   \n",
       "3           3  Ribeira Grande      PT  1600108948     38.52     -28.70   \n",
       "4           4      Mossamedes      AO  1600108948    -15.20      12.15   \n",
       "\n",
       "   Temperature  Max. Temp.  Humidity  Cloudiness  Wind Speed  \n",
       "0        14.68       14.68        67           0        8.78  \n",
       "1        22.13       22.13        49          57        1.87  \n",
       "2        20.56       22.00        60          80        2.60  \n",
       "3        21.00       21.00        52          20        7.70  \n",
       "4        18.59       18.59        84         100        3.07  "
      ]
     },
     "execution_count": 2,
     "metadata": {},
     "output_type": "execute_result"
    }
   ],
   "source": [
    "# Reading CSV \n",
    "data_df = pd.read_csv(\"weather_data.csv\")\n",
    "\n",
    "# Reviewing Dataframe\n",
    "data_df.head()"
   ]
  },
  {
   "cell_type": "code",
   "execution_count": 3,
   "metadata": {},
   "outputs": [],
   "source": [
    "# Renaming \"Unnamed\" column\n",
    "data_df = data_df.rename(columns = {\"Unnamed: 0\": \"City ID\"})"
   ]
  },
  {
   "cell_type": "code",
   "execution_count": 4,
   "metadata": {},
   "outputs": [],
   "source": [
    "# Converting dataframe to html file\n",
    "data_df.to_html(\"Assets/data_df.html\", index = False)"
   ]
  }
 ],
 "metadata": {
  "kernelspec": {
   "display_name": "Python 3",
   "language": "python",
   "name": "python3"
  },
  "language_info": {
   "codemirror_mode": {
    "name": "ipython",
    "version": 3
   },
   "file_extension": ".py",
   "mimetype": "text/x-python",
   "name": "python",
   "nbconvert_exporter": "python",
   "pygments_lexer": "ipython3",
   "version": "3.7.6"
  }
 },
 "nbformat": 4,
 "nbformat_minor": 4
}
